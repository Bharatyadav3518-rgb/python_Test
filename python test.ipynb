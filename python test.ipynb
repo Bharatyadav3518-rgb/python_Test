{
 "cells": [
  {
   "cell_type": "markdown",
   "id": "91ea79e2-adcc-4e45-86b8-38733e392186",
   "metadata": {},
   "source": [
    "1. How do you concatenate two strings in python ?\n",
    "2. what is tghe differnece between the + operater and the jooin() method for concetenating string ?\n",
    "3. how do you access individual characters in a string ?\n",
    "4. what method is used to find the legnth of a string in pyhton ?\n",
    "5. how do you convert a string to uppercases in pyhton ?\n",
    "6. ho can you convert a string to lowercase in python ? \n",
    "7. what mwthod is used to replace substring within a string ?\n",
    "8. how can you split a string into a list of substring based on a delimiter ?\n",
    "9. how do youn check if a string stats with a particular substring ?\n",
    "10. how do check if a string ends with aparticular sring ?\n",
    "11. how can youn remove leading and traling whitespace from a substring ?\n",
    "12. what method is used to find the index of the firts accurance of a substring within a string ?\n",
    "13. how can you count the number of accurance of a substring within a string ?\n",
    "14. how do check if a sting contains only alphabethic character ?\n",
    "15. how how do check if a string conatins only numeric character ?\n",
    "16. How can you check if a string is a palindrome?\n",
    "17. How can you reverse a string in Python?\n",
    "18. How do you format a string with placeholders for variable values?\n",
    "19. How do you access a substring of a string using slicing?\n",
    "20. How can you remove specific characters from a string in Python?"
   ]
  },
  {
   "cell_type": "code",
   "execution_count": null,
   "id": "26470cbb",
   "metadata": {},
   "outputs": [],
   "source": []
  },
  {
   "cell_type": "code",
   "execution_count": 1,
   "id": "91d42bfc-355f-421f-82a2-2ccc3dd6477a",
   "metadata": {},
   "outputs": [
    {
     "name": "stdout",
     "output_type": "stream",
     "text": [
      "Hello world\n"
     ]
    }
   ],
   "source": [
    "s1 = \"Hello\"\n",
    "s2 = \"world\"\n",
    "result = s1 + \" \"  + s2 \n",
    "print(result)"
   ]
  },
  {
   "cell_type": "code",
   "execution_count": 2,
   "id": "17757e52-522f-4ca0-be14-334012504e99",
   "metadata": {},
   "outputs": [
    {
     "name": "stdout",
     "output_type": "stream",
     "text": [
      "hello  pyhton  world\n"
     ]
    }
   ],
   "source": [
    "words = [\"hello\" , \"pyhton\" , \"world\"]\n",
    "print(\"  \".join(words))"
   ]
  },
  {
   "cell_type": "code",
   "execution_count": 3,
   "id": "091fdc72-dbd6-4549-bfc7-607af15f8103",
   "metadata": {},
   "outputs": [
    {
     "name": "stdout",
     "output_type": "stream",
     "text": [
      "p\n",
      "y\n"
     ]
    }
   ],
   "source": [
    "s = \"python\"\n",
    "print(s[0])\n",
    "print(s[1])"
   ]
  },
  {
   "cell_type": "code",
   "execution_count": 4,
   "id": "9a4eada0-c669-46f5-ab6d-921aa5772af6",
   "metadata": {},
   "outputs": [
    {
     "name": "stdout",
     "output_type": "stream",
     "text": [
      "6\n"
     ]
    }
   ],
   "source": [
    "s = \"python\"\n",
    "print(len(s))"
   ]
  },
  {
   "cell_type": "code",
   "execution_count": 5,
   "id": "15fc6088-b5c2-4ec6-ac19-bf7671a41df8",
   "metadata": {},
   "outputs": [
    {
     "name": "stdout",
     "output_type": "stream",
     "text": [
      "PYHTON\n"
     ]
    }
   ],
   "source": [
    "s = \"pyhton\"\n",
    "print(s.upper())"
   ]
  },
  {
   "cell_type": "code",
   "execution_count": 6,
   "id": "8030858a-8267-4398-ba3a-9a7455425182",
   "metadata": {},
   "outputs": [
    {
     "name": "stdout",
     "output_type": "stream",
     "text": [
      "I like jawa\n"
     ]
    }
   ],
   "source": [
    "s = \"I like jawa\"\n",
    "print(s.replace(\"java\" , \"pyhton\"))"
   ]
  },
  {
   "cell_type": "code",
   "execution_count": 7,
   "id": "330972a3-e534-4988-b09f-e8035144d600",
   "metadata": {},
   "outputs": [
    {
     "name": "stdout",
     "output_type": "stream",
     "text": [
      "['bannna', 'apple', 'cherry']\n"
     ]
    }
   ],
   "source": [
    "s = \"bannna,apple,cherry\"\n",
    "print(s.split(\",\"))"
   ]
  },
  {
   "cell_type": "code",
   "execution_count": 8,
   "id": "f2cb4c77-950a-44ee-b89d-a5d630e1de9e",
   "metadata": {},
   "outputs": [
    {
     "name": "stdout",
     "output_type": "stream",
     "text": [
      "True\n"
     ]
    }
   ],
   "source": [
    "s = \"python is so easy\" \n",
    "print(s.startswith(\"python\"))"
   ]
  },
  {
   "cell_type": "code",
   "execution_count": 9,
   "id": "37846aa8-f5ae-4157-a445-e593fe94d99c",
   "metadata": {},
   "outputs": [
    {
     "name": "stdout",
     "output_type": "stream",
     "text": [
      "True\n"
     ]
    }
   ],
   "source": [
    "s = \"python ia great\"\n",
    "print(s.endswith(\"great\"))"
   ]
  },
  {
   "cell_type": "code",
   "execution_count": 10,
   "id": "be3837e6-e297-42bc-86d2-5f42a0032d18",
   "metadata": {},
   "outputs": [
    {
     "name": "stdout",
     "output_type": "stream",
     "text": [
      "python ia great\n"
     ]
    }
   ],
   "source": [
    "hello = \"   python    \"\n",
    "print(s.strip())"
   ]
  },
  {
   "cell_type": "code",
   "execution_count": null,
   "id": "2ad4c961",
   "metadata": {},
   "outputs": [],
   "source": [
    "text = \"Hello world \"\n",
    "cleaned = text.strip() "
   ]
  },
  {
   "cell_type": "code",
   "execution_count": null,
   "id": "cd63fb16",
   "metadata": {},
   "outputs": [],
   "source": []
  },
  {
   "cell_type": "code",
   "execution_count": 1,
   "id": "dac2d671",
   "metadata": {},
   "outputs": [
    {
     "data": {
      "text/plain": [
       "'hello world'"
      ]
     },
     "execution_count": 1,
     "metadata": {},
     "output_type": "execute_result"
    }
   ],
   "source": [
    "text = \"hello world \"\n",
    "text.strip()"
   ]
  },
  {
   "cell_type": "code",
   "execution_count": 2,
   "id": "5e979992-cb6b-447e-9ee8-b8ce63fed47a",
   "metadata": {},
   "outputs": [
    {
     "data": {
      "text/plain": [
       "6"
      ]
     },
     "execution_count": 2,
     "metadata": {},
     "output_type": "execute_result"
    }
   ],
   "source": [
    "text = \"Hello world\"\n",
    "text.find(\"world\")"
   ]
  },
  {
   "cell_type": "code",
   "execution_count": 3,
   "id": "82326abc",
   "metadata": {},
   "outputs": [
    {
     "data": {
      "text/plain": [
       "2"
      ]
     },
     "execution_count": 3,
     "metadata": {},
     "output_type": "execute_result"
    }
   ],
   "source": [
    "text = \"banna\"\n",
    "text.count(\"a\")"
   ]
  },
  {
   "cell_type": "code",
   "execution_count": 4,
   "id": "1bb0fc31-d061-46c8-8fda-ebe1d52b0af3",
   "metadata": {},
   "outputs": [
    {
     "data": {
      "text/plain": [
       "True"
      ]
     },
     "execution_count": 4,
     "metadata": {},
     "output_type": "execute_result"
    }
   ],
   "source": [
    "text =  \"python\"\n",
    "text.isalpha()"
   ]
  },
  {
   "cell_type": "code",
   "execution_count": 5,
   "id": "7f71c029-4fce-4117-b408-0423fb9cdc15",
   "metadata": {},
   "outputs": [
    {
     "data": {
      "text/plain": [
       "True"
      ]
     },
     "execution_count": 5,
     "metadata": {},
     "output_type": "execute_result"
    }
   ],
   "source": [
    "num = \"1234\"\n",
    "num.isdigit()"
   ]
  },
  {
   "cell_type": "code",
   "execution_count": 6,
   "id": "90266b98-f5ea-4ba1-a7c1-ec044f705a40",
   "metadata": {},
   "outputs": [
    {
     "data": {
      "text/plain": [
       "True"
      ]
     },
     "execution_count": 6,
     "metadata": {},
     "output_type": "execute_result"
    }
   ],
   "source": [
    "text = \"madam\"\n",
    "text== text [ : :-1]"
   ]
  },
  {
   "cell_type": "code",
   "execution_count": 7,
   "id": "172526f3-5877-4de9-a42f-a9375d61b666",
   "metadata": {},
   "outputs": [
    {
     "data": {
      "text/plain": [
       "'olleh'"
      ]
     },
     "execution_count": 7,
     "metadata": {},
     "output_type": "execute_result"
    }
   ],
   "source": [
    "text = \"hello\"\n",
    "text[ : :-1]"
   ]
  },
  {
   "cell_type": "code",
   "execution_count": 10,
   "id": "f43a71e0-26e9-45f8-a028-7e8ea4895402",
   "metadata": {},
   "outputs": [
    {
     "name": "stdout",
     "output_type": "stream",
     "text": [
      "My name is Monty and I am 21 years old.\n"
     ]
    }
   ],
   "source": [
    "name = \"Monty\"\n",
    "age = 21\n",
    "print(f\"My name is {name} and I am {age} years old.\")\n"
   ]
  },
  {
   "cell_type": "code",
   "execution_count": 8,
   "id": "b19a8c54-c4a8-4d76-a9e8-38fb9debf6be",
   "metadata": {},
   "outputs": [
    {
     "data": {
      "text/plain": [
       "'Hello'"
      ]
     },
     "execution_count": 8,
     "metadata": {},
     "output_type": "execute_result"
    }
   ],
   "source": [
    "text = \"Hello world\"\n",
    "text[0:5]"
   ]
  },
  {
   "cell_type": "code",
   "execution_count": 6,
   "id": "5dcf6dea-0326-4caa-8012-998a4041189f",
   "metadata": {},
   "outputs": [
    {
     "data": {
      "text/plain": [
       "'Hello world'"
      ]
     },
     "execution_count": 6,
     "metadata": {},
     "output_type": "execute_result"
    }
   ],
   "source": [
    "text=\"Hello world\"\n",
    "text.replace(\"1\", \"\")\n",
    "\n"
   ]
  },
  {
   "cell_type": "code",
   "execution_count": 5,
   "id": "515a0c90-a112-4bb0-a355-1a0b8c62d4cb",
   "metadata": {},
   "outputs": [
    {
     "data": {
      "text/plain": [
       "'Hello'"
      ]
     },
     "execution_count": 5,
     "metadata": {},
     "output_type": "execute_result"
    }
   ],
   "source": [
    "text = \"Hello world\"\n",
    "text[0:5]"
   ]
  },
  {
   "cell_type": "code",
   "execution_count": null,
   "id": "fb881a7d-816f-4139-838c-f4f7e0d3b641",
   "metadata": {},
   "outputs": [],
   "source": []
  },
  {
   "cell_type": "code",
   "execution_count": null,
   "id": "17f7ae88-407f-4cf4-9e75-ef7578ac790a",
   "metadata": {},
   "outputs": [],
   "source": []
  },
  {
   "cell_type": "code",
   "execution_count": null,
   "id": "1c9e1a18-d787-41f5-9b90-b8f829c5d5c5",
   "metadata": {},
   "outputs": [],
   "source": []
  },
  {
   "cell_type": "code",
   "execution_count": null,
   "id": "4ef1c52e-03a8-4e62-94da-6938d5e4c85b",
   "metadata": {},
   "outputs": [],
   "source": []
  },
  {
   "cell_type": "code",
   "execution_count": null,
   "id": "44eea455-757e-43a1-9930-6c1da5a32c42",
   "metadata": {},
   "outputs": [],
   "source": []
  },
  {
   "cell_type": "code",
   "execution_count": null,
   "id": "223fbd25-0e8c-4429-a80a-d564b3cdc95a",
   "metadata": {},
   "outputs": [],
   "source": []
  },
  {
   "cell_type": "code",
   "execution_count": null,
   "id": "7b557cbb-0a4f-4bc9-ad4e-ed8047057b4f",
   "metadata": {},
   "outputs": [],
   "source": []
  }
 ],
 "metadata": {
  "kernelspec": {
   "display_name": "Python 3 (ipykernel)",
   "language": "python",
   "name": "python3"
  },
  "language_info": {
   "codemirror_mode": {
    "name": "ipython",
    "version": 3
   },
   "file_extension": ".py",
   "mimetype": "text/x-python",
   "name": "python",
   "nbconvert_exporter": "python",
   "pygments_lexer": "ipython3",
   "version": "3.13.5"
  }
 },
 "nbformat": 4,
 "nbformat_minor": 5
}
